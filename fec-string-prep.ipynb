{
 "cells": [
  {
   "cell_type": "markdown",
   "metadata": {},
   "source": [
    "# Getting the Git"
   ]
  },
  {
   "cell_type": "code",
   "execution_count": 1,
   "metadata": {
    "collapsed": false
   },
   "outputs": [],
   "source": [
    "import os\n",
    "%matplotlib inline\n",
    "import pandas as pd\n",
    "import numpy as np\n",
    "import scipy as sp\n",
    "import timeit\n",
    "import seaborn as sns\n",
    "from joblib import Parallel, delayed\n",
    "import multiprocessing\n",
    "from multiprocessing import Pool\n",
    "import matplotlib as mpl\n",
    "import time\n",
    "import csv\n",
    "import math\n",
    "from fuzzywuzzy import fuzz\n",
    "from fuzzywuzzy import process\n",
    "from time import sleep\n",
    "import sys\n",
    "import pickle\n",
    "import codecs\n",
    "import threading\n",
    "os.environ['PATH'] += \";C\\Program Files\\Git\\\\bin\"\n",
    "\n",
    "'''# ---------------- Old Toolbar Updated -------------------------#\n",
    "toolbar_width = 40\n",
    "\n",
    "# setup toolbar\n",
    "sys.stdout.write(\"[%s]\" % (\" \" * toolbar_width))\n",
    "sys.stdout.flush()\n",
    "sys.stdout.write(\"\\b\" * (toolbar_width+1)) \n",
    "'''\n",
    "\n",
    "def progbar(i,j):\n",
    "    sys.stdout.write('\\r')\n",
    "    sys.stdout.write(\"%.2f%%\" % round((i / j) * 100,2))\n",
    "    sys.stdout.flush()\n",
    "    sleep(0.001)"
   ]
  },
  {
   "cell_type": "raw",
   "metadata": {
    "collapsed": false
   },
   "source": [
    "#%%bash\n",
    "#rm -rf fec-data\n",
    "#git clone git@github.com:jbisbee1/fec-data.git"
   ]
  },
  {
   "cell_type": "raw",
   "metadata": {
    "collapsed": false
   },
   "source": [
    "#%%bash\n",
    "#git log"
   ]
  },
  {
   "cell_type": "markdown",
   "metadata": {},
   "source": [
    "# Opening the full data"
   ]
  },
  {
   "cell_type": "raw",
   "metadata": {
    "collapsed": false
   },
   "source": [
    "recipients = pd.read_stata(\"../../rawrecipients.dta\")\n",
    "recipients.head()"
   ]
  },
  {
   "cell_type": "markdown",
   "metadata": {},
   "source": [
    "# Fuzzy matching on firm names"
   ]
  },
  {
   "cell_type": "markdown",
   "metadata": {},
   "source": [
    "I use the fuzzywuzzy package and run through each firm name, comparing it to the remaining 5.6 million in the dataset. "
   ]
  },
  {
   "cell_type": "raw",
   "metadata": {
    "collapsed": false,
    "scrolled": true
   },
   "source": [
    "recclean = recipients['raw_recipient']\n",
    "recclean.head()\n",
    "len(recclean)"
   ]
  },
  {
   "cell_type": "markdown",
   "metadata": {},
   "source": [
    "Each of the firm names is compared against a master list which is stripped of any non-string types (although I'm not sure why any would be in there, there seem to be a few.) I also drop duplicates but, again, I don't think there should be too many in there, given all the work already conducted using Stata."
   ]
  },
  {
   "cell_type": "raw",
   "metadata": {
    "collapsed": false
   },
   "source": [
    "uniques = recclean.drop_duplicates()\n",
    "select = [isinstance(e,str) for e in uniques]\n",
    "uniques2 = uniques[select]"
   ]
  },
  {
   "cell_type": "raw",
   "metadata": {
    "collapsed": false
   },
   "source": [
    "select = [isinstance(e,str) for e in recclean]\n",
    "recclean2 = recclean[select]\n",
    "print(len(recclean2), len(uniques2))"
   ]
  },
  {
   "cell_type": "raw",
   "metadata": {
    "collapsed": false
   },
   "source": [
    "name2 = 'rawrecspickle'\n",
    "fileObject = open(name2,'wb')\n",
    "pickle.dump(uniques2,fileObject)\n",
    "fileObject.close()"
   ]
  },
  {
   "cell_type": "code",
   "execution_count": 2,
   "metadata": {
    "collapsed": false
   },
   "outputs": [],
   "source": [
    "fileObject = open('rawrecspickle','rb')\n",
    "uniquerecs = pickle.load(fileObject)"
   ]
  },
  {
   "cell_type": "markdown",
   "metadata": {},
   "source": [
    "Confirmed that there are no duplicates in the list. \n",
    "\n",
    "Now we're off to the races. This is going to take a goddamned long time so smoke 'em if you got 'em. We go through every firm name in the full list of 5.6m and compare the string to all of the others using the fuzzywuzzy method \"process\". \n",
    "\n",
    "Whoa...too long. I'm going to try and run this on the cluster. No sense in gumming up my machine."
   ]
  },
  {
   "cell_type": "code",
   "execution_count": 5,
   "metadata": {
    "collapsed": false
   },
   "outputs": [
    {
     "name": "stdout",
     "output_type": "stream",
     "text": [
      "0 100000\n"
     ]
    }
   ],
   "source": [
    "dictter = dict(zip(range(57),range(0,6 * 10 ** 6,10 ** 5)))\n",
    "start = dictter[0] #dictter[int(sys.argv[1])]\n",
    "end = dictter[0+1] #dictter[int(sys.argv[1]+1)]\n",
    "print(start,end)\n",
    "end = 1000"
   ]
  },
  {
   "cell_type": "code",
   "execution_count": 3,
   "metadata": {
    "collapsed": true
   },
   "outputs": [],
   "source": [
    "def pairs(rec,uniques):\n",
    "    return [rec,[x[0] for x in process.extractBests(rec,uniques,scorer=fuzz.token_set_ratio,score_cutoff=90)]]"
   ]
  },
  {
   "cell_type": "code",
   "execution_count": 7,
   "metadata": {
    "collapsed": false
   },
   "outputs": [
    {
     "name": "stdout",
     "output_type": "stream",
     "text": [
      "['!1T Family Dental', ['!1T Family Dental']]\n"
     ]
    },
    {
     "data": {
      "text/plain": [
       "<Thread(Thread-25, started 13720)>"
      ]
     },
     "execution_count": 7,
     "metadata": {},
     "output_type": "execute_result"
    }
   ],
   "source": [
    "test = pairs(uniquerecs[1],uniquerecs[:100])\n",
    "print(test)\n",
    "threads = []\n",
    "for i in range(5):\n",
    "    t = threading.Thread(target = pairs,args = (uniquerecs[i],uniquerecs[:100]))\n",
    "    threads.append(t)\n",
    "    t.start()\n",
    "t"
   ]
  },
  {
   "cell_type": "code",
   "execution_count": 6,
   "metadata": {
    "collapsed": false
   },
   "outputs": [
    {
     "name": "stdout",
     "output_type": "stream",
     "text": [
      "100.00%"
     ]
    }
   ],
   "source": [
    "pairings=[]\n",
    "counter = 0\n",
    "\n",
    "for rec in uniquerecs[start:end]:\n",
    "    pairings.append([rec,[x[0] for x in process.extractBests(rec,uniquerecs[:1000],scorer=fuzz.token_set_ratio,score_cutoff=90)]])\n",
    "    progbar(counter,(end-start)-1)\n",
    "    counter += 1"
   ]
  },
  {
   "cell_type": "code",
   "execution_count": 12,
   "metadata": {
    "collapsed": false
   },
   "outputs": [
    {
     "name": "stdout",
     "output_type": "stream",
     "text": [
      "276 72\n"
     ]
    },
    {
     "data": {
      "text/plain": [
       "[['#1 CLEANERS', ['$1.25 CLEANERS']],\n",
       " ['#1 SUN TAN AND TRAVEL, INC.', ['#1 SUN TAN & TRAVEL INC.']],\n",
       " ['#2 LA NAILS', ['#2 LA NAIL']],\n",
       " ['#7 STEAK-N-TAKE RESTAURANT', ['#7 STEAK-N-TAKE RESTARUANT']],\n",
       " ['#9 AREA VOLUNTEER FIRE DEPARTMENT', ['#9 AREA VOL. FIRE DEPARTMENT']],\n",
       " ['$ 1.49 DRY CLEAN CITY # 9',\n",
       "  ['$1 69 DRY CLEAN CITY',\n",
       "   '$1.69 DRY CLEAN CITY',\n",
       "   '$1.79 DRY CLEAN CITY',\n",
       "   '$1.50 DRY CLEAN CITY']],\n",
       " ['$1 69 DRY CLEAN CITY',\n",
       "  ['$1.69 DRY CLEAN CITY',\n",
       "   '$1.79 DRY CLEAN CITY',\n",
       "   '$ 1.49 DRY CLEAN CITY # 9']],\n",
       " ['$1.00 DOLLAR STORE', ['$1 DOLLAR STORE']],\n",
       " ['$1.25 CLEANERS', ['#1 CLEANERS', '$1.25 DRY-CLEANERS']],\n",
       " ['$1.25 DRY CLEAN CENTER, INC.', ['$1.25 DRY CLEAN SUPER CENTER']],\n",
       " ['$1.25 DRY CLEAN SUPER CENTER',\n",
       "  ['$1.49 DRY CLEAN SUPER CENTER',\n",
       "   '$1.25 DRY CLEANERS SUPER CENTE',\n",
       "   '$1.25 DRY CLEAN CENTER, INC.']],\n",
       " ['$1.25 DRY-CLEANERS', ['$1.25 CLEANERS']],\n",
       " ['$1.49 DRY CLEAN SUPER CENTER', ['$1.25 DRY CLEAN SUPER CENTER']],\n",
       " ['$1.50 CLEANERS',\n",
       "  ['$1.25 CLEANERS', '$1.59 CLEANERS', '$1.75 CLEANERS', '#1 CLEANERS']],\n",
       " ['$1.50 DRY CLEAN CITY',\n",
       "  ['$1 69 DRY CLEAN CITY',\n",
       "   '$1.69 DRY CLEAN CITY',\n",
       "   '$ 1.49 DRY CLEAN CITY # 9']],\n",
       " ['$1.59 CLEANERS',\n",
       "  ['$1.25 CLEANERS', '$1.50 CLEANERS', '$1.69 CLEANERS', '#1 CLEANERS']],\n",
       " ['$1.69 CLEANERS', ['$1.59 CLEANERS', '#1 CLEANERS']],\n",
       " ['$1.69 DRY CLEAN CITY',\n",
       "  ['$1 69 DRY CLEAN CITY',\n",
       "   '$1.79 DRY CLEAN CITY',\n",
       "   '$ 1.49 DRY CLEAN CITY # 9']],\n",
       " ['$1.69 DRY CLEAN USA', ['$1.69 DRY CLEAN USA 2', '$1.79 DRY CLEAN USA']],\n",
       " ['$1.69 DRY CLEAN USA 2', ['$1.69 DRY CLEAN USA', '$1.79 DRY CLEAN USA']]]"
      ]
     },
     "execution_count": 12,
     "metadata": {},
     "output_type": "execute_result"
    }
   ],
   "source": [
    "new = []\n",
    "for j in range(len(pairings)):\n",
    "    new.append([pairings[j][0],[i for i in pairings[j][1] if pairings[j][0] != i]])\n",
    "mask = [new[i] for i in range(len(new)) if len(new[i][1]) > 0]\n",
    "\n",
    "new2 = []\n",
    "for j in range(len(mask)):\n",
    "    new2.append([mask[j][0],[x[0] for x in process.extractBests(mask[j][0],mask[j][1],scorer = fuzz.token_sort_ratio,score_cutoff=85)]])\n",
    "mask2 = [new2[i] for i in range(len(new2)) if len(new2[i][1]) > 0]\n",
    "print(len(mask),len(mask2))\n",
    "\n",
    "forsurvey=[]\n",
    "for i in range(len(mask2)-1):\n",
    "    if len(mask2[i][1]) == 1:\n",
    "        j = i+1\n",
    "        if [mask2[i][0],mask2[i][1][0]] != [mask2[j][1][0],mask2[j][0]]:\n",
    "            forsurvey.append(mask2[i])\n",
    "    else:\n",
    "        forsurvey.append(mask2[i])\n",
    "forsurvey[:20]"
   ]
  },
  {
   "cell_type": "markdown",
   "metadata": {},
   "source": [
    "# Write a .txt file in the format for importing to Qualtrics"
   ]
  },
  {
   "cell_type": "markdown",
   "metadata": {},
   "source": [
    "The code below can be converted to illustrate the process by which I create the .txt files that are formatted to be imported into Qualtrics. I don't run the code here though because it would take a long time."
   ]
  },
  {
   "cell_type": "raw",
   "metadata": {
    "collapsed": false
   },
   "source": [
    "submask = mask[:20]\n",
    "counter = 0\n",
    "for j in range(0,len(submask),10):\n",
    "    print(\"Block Test: %s\" % (j / 10))\n",
    "    for k in range(j,j+10):\n",
    "        print(\"     Advanced Choices: %s\" % submask[k][0] + \" %s\" % counter)\n",
    "        for i in range(0,len(submask[k][1])):\n",
    "            print(\"          Choice: %s\" % i + \" %s\" % submask[k][1][i])\n",
    "        counter += 1"
   ]
  },
  {
   "cell_type": "code",
   "execution_count": 9,
   "metadata": {
    "collapsed": false
   },
   "outputs": [
    {
     "name": "stdout",
     "output_type": "stream",
     "text": [
      "1\n",
      "50.00%"
     ]
    }
   ],
   "source": [
    "maxs = int(math.ceil(len(forsurvey) / 100))\n",
    "print(maxs)\n",
    "length = len(forsurvey)\n",
    "\n",
    "start = 0\n",
    "counter = 0\n",
    "\n",
    "for z in range(1,maxs+1):\n",
    "    end = min(z*100,length)\n",
    "    submask = forsurvey[start:end]\n",
    "    start = end+1\n",
    "    survey_file = open(\"range%s_survey_test_%s\" %(1,z) +\".txt\",\"w\")\n",
    "    survey_file.write(\"[[AdvancedFormat]] \\n\\n\")\n",
    "    for j in range(0,len(submask),10):\n",
    "        survey_file.write(\"[[Block: Firm Names - %s\" % counter + \"]]\\n\")\n",
    "        for k in range(j,min(j+10,len(submask))):\n",
    "            survey_file.write(\" [[Question:MC:MultipleAnswer:Vertical]] \\n \\\n",
    "            %s\" % submask[k][0].upper() + \"\\n\\n\")\n",
    "            survey_file.write(\"  [[AdvancedChoices]] \\n\")\n",
    "            for i in range(0,len(submask[k][1])):\n",
    "                survey_file.write(\"    [[Choice: %s\" % i +\"]] \\n \\\n",
    "                %s\" % submask[k][1][i].upper() +'\\n')\n",
    "            survey_file.write(\"\\n\")\n",
    "        progbar(counter,maxs*10)\n",
    "        counter += 1\n",
    "    survey_file.close()"
   ]
  },
  {
   "cell_type": "code",
   "execution_count": 44,
   "metadata": {
    "collapsed": false
   },
   "outputs": [
    {
     "name": "stdout",
     "output_type": "stream",
     "text": [
      "276 72\n",
      "['#1 SUN TAN AND TRAVEL, INC.', '#2 LA NAILS', '#7 STEAK-N-TAKE RESTAURANT', '#9 AREA VOLUNTEER FIRE DEPARTMENT', '$ 1.49 DRY CLEAN CITY # 9', '$1 69 DRY CLEAN CITY']\n",
      "['#1 CLEANERS', '#2 LA NAILS', '#7 STEAK-N-TAKE RESTAURANT', '#9 AREA VOLUNTEER FIRE DEPARTMENT', '$ 1.49 DRY CLEAN CITY # 9', '$1 69 DRY CLEAN CITY']\n",
      "['#1 CLEANERS', '#1 SUN TAN AND TRAVEL, INC.', '#7 STEAK-N-TAKE RESTAURANT', '#9 AREA VOLUNTEER FIRE DEPARTMENT', '$ 1.49 DRY CLEAN CITY # 9', '$1 69 DRY CLEAN CITY']\n",
      "['#1 CLEANERS', '#1 SUN TAN AND TRAVEL, INC.', '#2 LA NAILS', '#9 AREA VOLUNTEER FIRE DEPARTMENT', '$ 1.49 DRY CLEAN CITY # 9', '$1 69 DRY CLEAN CITY']\n",
      "['#1 CLEANERS', '#1 SUN TAN AND TRAVEL, INC.', '#2 LA NAILS', '#7 STEAK-N-TAKE RESTAURANT', '$ 1.49 DRY CLEAN CITY # 9', '$1 69 DRY CLEAN CITY']\n"
     ]
    },
    {
     "data": {
      "text/plain": [
       "[[], [], [], [], []]"
      ]
     },
     "execution_count": 44,
     "metadata": {},
     "output_type": "execute_result"
    }
   ],
   "source": [
    "new = []\n",
    "for j in range(len(pairings)):\n",
    "    new.append([pairings[j][0],[i for i in pairings[j][1] if pairings[j][0] != i]])\n",
    "mask = [new[i] for i in range(len(new)) if len(new[i][1]) > 0]\n",
    "new[:20]\n",
    "\n",
    "\n",
    "new2 = []\n",
    "for j in range(len(mask)):\n",
    "    new2.append([mask[j][0],[x[0] for x in process.extractBests(mask[j][0],mask[j][1],scorer = fuzz.token_sort_ratio,score_cutoff=85)]])\n",
    "mask2 = [new2[i] for i in range(len(new2)) if len(new2[i][1]) > 0]\n",
    "print(len(mask),len(mask2))\n",
    "\n",
    "forsurvey=[]\n",
    "for i in range(len(mask2)-1):\n",
    "    if len(mask2[i][1]) == 1:\n",
    "        j = i+1\n",
    "        if [mask2[i][0],mask2[i][1][0]] != [mask2[j][1][0],mask2[j][0]]:\n",
    "            forsurvey.append(mask2[i])\n",
    "    else:\n",
    "        forsurvey.append(mask2[i])\n",
    "forsurvey[:20]\n",
    "\n",
    "anchors = [forsurvey[x][0] for x in range(len(forsurvey))]\n",
    "pairs=[]\n",
    "for j in range(len(forsurvey)):\n",
    "    pairs.append([x for x in forsurvey[j][1]])\n",
    "\n",
    "forsurvey2 = []\n",
    "for i in range(5): #len(forsurvey)):\n",
    "    neg = [x for j,x in enumerate(anchors) if j != i]\n",
    "    print(neg[:6])\n",
    "    forsurvey2.append([x for x in anchors[i] if x in neg])\n",
    "forsurvey2[:10]\n"
   ]
  },
  {
   "cell_type": "code",
   "execution_count": 11,
   "metadata": {
    "collapsed": false
   },
   "outputs": [
    {
     "name": "stdout",
     "output_type": "stream",
     "text": [
      "['#1 CLEANERS', ['$1.25 CLEANERS']]\n",
      "['$1.25 CLEANERS']\n"
     ]
    },
    {
     "data": {
      "text/html": [
       "<div>\n",
       "<table border=\"1\" class=\"dataframe\">\n",
       "  <thead>\n",
       "    <tr style=\"text-align: right;\">\n",
       "      <th></th>\n",
       "      <th>bid</th>\n",
       "      <th>cw1</th>\n",
       "    </tr>\n",
       "  </thead>\n",
       "  <tbody>\n",
       "    <tr>\n",
       "      <th>0</th>\n",
       "      <td>bid0</td>\n",
       "      <td>#1 CLEANERS</td>\n",
       "    </tr>\n",
       "    <tr>\n",
       "      <th>1</th>\n",
       "      <td>bid0</td>\n",
       "      <td>$1.25 CLEANERS</td>\n",
       "    </tr>\n",
       "    <tr>\n",
       "      <th>2</th>\n",
       "      <td>bid1</td>\n",
       "      <td>#1 SUN TAN AND TRAVEL, INC.</td>\n",
       "    </tr>\n",
       "    <tr>\n",
       "      <th>3</th>\n",
       "      <td>bid1</td>\n",
       "      <td>#1 SUN TAN &amp; TRAVEL INC.</td>\n",
       "    </tr>\n",
       "    <tr>\n",
       "      <th>4</th>\n",
       "      <td>bid2</td>\n",
       "      <td>#2 LA NAILS</td>\n",
       "    </tr>\n",
       "    <tr>\n",
       "      <th>5</th>\n",
       "      <td>bid2</td>\n",
       "      <td>#2 LA NAIL</td>\n",
       "    </tr>\n",
       "    <tr>\n",
       "      <th>6</th>\n",
       "      <td>bid3</td>\n",
       "      <td>#7 STEAK-N-TAKE RESTAURANT</td>\n",
       "    </tr>\n",
       "    <tr>\n",
       "      <th>7</th>\n",
       "      <td>bid3</td>\n",
       "      <td>#7 STEAK-N-TAKE RESTARUANT</td>\n",
       "    </tr>\n",
       "    <tr>\n",
       "      <th>8</th>\n",
       "      <td>bid4</td>\n",
       "      <td>#9 AREA VOLUNTEER FIRE DEPARTMENT</td>\n",
       "    </tr>\n",
       "    <tr>\n",
       "      <th>9</th>\n",
       "      <td>bid4</td>\n",
       "      <td>#9 AREA VOL. FIRE DEPARTMENT</td>\n",
       "    </tr>\n",
       "    <tr>\n",
       "      <th>10</th>\n",
       "      <td>bid5</td>\n",
       "      <td>$ 1.49 DRY CLEAN CITY # 9</td>\n",
       "    </tr>\n",
       "    <tr>\n",
       "      <th>11</th>\n",
       "      <td>bid5</td>\n",
       "      <td>$1 69 DRY CLEAN CITY</td>\n",
       "    </tr>\n",
       "    <tr>\n",
       "      <th>12</th>\n",
       "      <td>bid5</td>\n",
       "      <td>$1.69 DRY CLEAN CITY</td>\n",
       "    </tr>\n",
       "    <tr>\n",
       "      <th>13</th>\n",
       "      <td>bid5</td>\n",
       "      <td>$1.79 DRY CLEAN CITY</td>\n",
       "    </tr>\n",
       "    <tr>\n",
       "      <th>14</th>\n",
       "      <td>bid5</td>\n",
       "      <td>$1.50 DRY CLEAN CITY</td>\n",
       "    </tr>\n",
       "    <tr>\n",
       "      <th>15</th>\n",
       "      <td>bid6</td>\n",
       "      <td>$1 69 DRY CLEAN CITY</td>\n",
       "    </tr>\n",
       "    <tr>\n",
       "      <th>16</th>\n",
       "      <td>bid6</td>\n",
       "      <td>$1.69 DRY CLEAN CITY</td>\n",
       "    </tr>\n",
       "    <tr>\n",
       "      <th>17</th>\n",
       "      <td>bid6</td>\n",
       "      <td>$1.79 DRY CLEAN CITY</td>\n",
       "    </tr>\n",
       "    <tr>\n",
       "      <th>18</th>\n",
       "      <td>bid6</td>\n",
       "      <td>$ 1.49 DRY CLEAN CITY # 9</td>\n",
       "    </tr>\n",
       "    <tr>\n",
       "      <th>19</th>\n",
       "      <td>bid7</td>\n",
       "      <td>$1.00 DOLLAR STORE</td>\n",
       "    </tr>\n",
       "    <tr>\n",
       "      <th>20</th>\n",
       "      <td>bid7</td>\n",
       "      <td>$1 DOLLAR STORE</td>\n",
       "    </tr>\n",
       "    <tr>\n",
       "      <th>21</th>\n",
       "      <td>bid8</td>\n",
       "      <td>$1.25 CLEANERS</td>\n",
       "    </tr>\n",
       "    <tr>\n",
       "      <th>22</th>\n",
       "      <td>bid8</td>\n",
       "      <td>#1 CLEANERS</td>\n",
       "    </tr>\n",
       "    <tr>\n",
       "      <th>23</th>\n",
       "      <td>bid8</td>\n",
       "      <td>$1.25 DRY-CLEANERS</td>\n",
       "    </tr>\n",
       "    <tr>\n",
       "      <th>24</th>\n",
       "      <td>bid9</td>\n",
       "      <td>$1.25 DRY CLEAN CENTER, INC.</td>\n",
       "    </tr>\n",
       "    <tr>\n",
       "      <th>25</th>\n",
       "      <td>bid9</td>\n",
       "      <td>$1.25 DRY CLEAN SUPER CENTER</td>\n",
       "    </tr>\n",
       "    <tr>\n",
       "      <th>26</th>\n",
       "      <td>bid10</td>\n",
       "      <td>$1.25 DRY CLEAN SUPER CENTER</td>\n",
       "    </tr>\n",
       "    <tr>\n",
       "      <th>27</th>\n",
       "      <td>bid10</td>\n",
       "      <td>$1.49 DRY CLEAN SUPER CENTER</td>\n",
       "    </tr>\n",
       "    <tr>\n",
       "      <th>28</th>\n",
       "      <td>bid10</td>\n",
       "      <td>$1.25 DRY CLEANERS SUPER CENTE</td>\n",
       "    </tr>\n",
       "    <tr>\n",
       "      <th>29</th>\n",
       "      <td>bid10</td>\n",
       "      <td>$1.25 DRY CLEAN CENTER, INC.</td>\n",
       "    </tr>\n",
       "    <tr>\n",
       "      <th>...</th>\n",
       "      <td>...</td>\n",
       "      <td>...</td>\n",
       "    </tr>\n",
       "    <tr>\n",
       "      <th>119</th>\n",
       "      <td>bid43</td>\n",
       "      <td>*BEST EFFORT</td>\n",
       "    </tr>\n",
       "    <tr>\n",
       "      <th>120</th>\n",
       "      <td>bid43</td>\n",
       "      <td>(BEST EFFORT)</td>\n",
       "    </tr>\n",
       "    <tr>\n",
       "      <th>121</th>\n",
       "      <td>bid43</td>\n",
       "      <td>- BEST EFFORT</td>\n",
       "    </tr>\n",
       "    <tr>\n",
       "      <th>122</th>\n",
       "      <td>bid43</td>\n",
       "      <td>(BEST EFFORTS)</td>\n",
       "    </tr>\n",
       "    <tr>\n",
       "      <th>123</th>\n",
       "      <td>bid43</td>\n",
       "      <td>*BEST EFFORTS</td>\n",
       "    </tr>\n",
       "    <tr>\n",
       "      <th>124</th>\n",
       "      <td>bid44</td>\n",
       "      <td>*BEST EFFORTS</td>\n",
       "    </tr>\n",
       "    <tr>\n",
       "      <th>125</th>\n",
       "      <td>bid44</td>\n",
       "      <td>(BEST EFFORTS)</td>\n",
       "    </tr>\n",
       "    <tr>\n",
       "      <th>126</th>\n",
       "      <td>bid44</td>\n",
       "      <td>(BEST EFFORT)</td>\n",
       "    </tr>\n",
       "    <tr>\n",
       "      <th>127</th>\n",
       "      <td>bid44</td>\n",
       "      <td>*BEST EFFORT</td>\n",
       "    </tr>\n",
       "    <tr>\n",
       "      <th>128</th>\n",
       "      <td>bid44</td>\n",
       "      <td>- BEST EFFORT</td>\n",
       "    </tr>\n",
       "    <tr>\n",
       "      <th>129</th>\n",
       "      <td>bid45</td>\n",
       "      <td>*INGHAM CTY CLERK</td>\n",
       "    </tr>\n",
       "    <tr>\n",
       "      <th>130</th>\n",
       "      <td>bid45</td>\n",
       "      <td>*INGHAM COUNTY CLERK</td>\n",
       "    </tr>\n",
       "    <tr>\n",
       "      <th>131</th>\n",
       "      <td>bid46</td>\n",
       "      <td>*J &amp; T VENDING</td>\n",
       "    </tr>\n",
       "    <tr>\n",
       "      <th>132</th>\n",
       "      <td>bid46</td>\n",
       "      <td>, &amp; J VENDING</td>\n",
       "    </tr>\n",
       "    <tr>\n",
       "      <th>133</th>\n",
       "      <td>bid47</td>\n",
       "      <td>*REFUND-NOT A CONTRIBUTION</td>\n",
       "    </tr>\n",
       "    <tr>\n",
       "      <th>134</th>\n",
       "      <td>bid47</td>\n",
       "      <td>* REFUND-NOT A CONTRIBUTION</td>\n",
       "    </tr>\n",
       "    <tr>\n",
       "      <th>135</th>\n",
       "      <td>bid48</td>\n",
       "      <td>, &amp; J VENDING</td>\n",
       "    </tr>\n",
       "    <tr>\n",
       "      <th>136</th>\n",
       "      <td>bid48</td>\n",
       "      <td>*J &amp; T VENDING</td>\n",
       "    </tr>\n",
       "    <tr>\n",
       "      <th>137</th>\n",
       "      <td>bid48</td>\n",
       "      <td>&amp; VENDING</td>\n",
       "    </tr>\n",
       "    <tr>\n",
       "      <th>138</th>\n",
       "      <td>bid49</td>\n",
       "      <td>- BEST EFFORT</td>\n",
       "    </tr>\n",
       "    <tr>\n",
       "      <th>139</th>\n",
       "      <td>bid49</td>\n",
       "      <td>(BEST EFFORT)</td>\n",
       "    </tr>\n",
       "    <tr>\n",
       "      <th>140</th>\n",
       "      <td>bid49</td>\n",
       "      <td>*BEST EFFORT</td>\n",
       "    </tr>\n",
       "    <tr>\n",
       "      <th>141</th>\n",
       "      <td>bid49</td>\n",
       "      <td>(BEST EFFORTS)</td>\n",
       "    </tr>\n",
       "    <tr>\n",
       "      <th>142</th>\n",
       "      <td>bid49</td>\n",
       "      <td>*BEST EFFORTS</td>\n",
       "    </tr>\n",
       "    <tr>\n",
       "      <th>143</th>\n",
       "      <td>bid50</td>\n",
       "      <td>- HERZOG &amp; RHOADS INC</td>\n",
       "    </tr>\n",
       "    <tr>\n",
       "      <th>144</th>\n",
       "      <td>bid50</td>\n",
       "      <td>- HERZOG &amp; RHOADS</td>\n",
       "    </tr>\n",
       "    <tr>\n",
       "      <th>145</th>\n",
       "      <td>bid51</td>\n",
       "      <td>.COM REAL ESTATE</td>\n",
       "    </tr>\n",
       "    <tr>\n",
       "      <th>146</th>\n",
       "      <td>bid51</td>\n",
       "      <td>/ REAL ESTATE</td>\n",
       "    </tr>\n",
       "    <tr>\n",
       "      <th>147</th>\n",
       "      <td>bid52</td>\n",
       "      <td>/ DUKE ENERGY</td>\n",
       "    </tr>\n",
       "    <tr>\n",
       "      <th>148</th>\n",
       "      <td>bid52</td>\n",
       "      <td>/  DUKE ENERGY</td>\n",
       "    </tr>\n",
       "  </tbody>\n",
       "</table>\n",
       "<p>149 rows × 2 columns</p>\n",
       "</div>"
      ],
      "text/plain": [
       "       bid                                cw1\n",
       "0     bid0                        #1 CLEANERS\n",
       "1     bid0                     $1.25 CLEANERS\n",
       "2     bid1        #1 SUN TAN AND TRAVEL, INC.\n",
       "3     bid1           #1 SUN TAN & TRAVEL INC.\n",
       "4     bid2                        #2 LA NAILS\n",
       "5     bid2                         #2 LA NAIL\n",
       "6     bid3         #7 STEAK-N-TAKE RESTAURANT\n",
       "7     bid3         #7 STEAK-N-TAKE RESTARUANT\n",
       "8     bid4  #9 AREA VOLUNTEER FIRE DEPARTMENT\n",
       "9     bid4       #9 AREA VOL. FIRE DEPARTMENT\n",
       "10    bid5          $ 1.49 DRY CLEAN CITY # 9\n",
       "11    bid5               $1 69 DRY CLEAN CITY\n",
       "12    bid5               $1.69 DRY CLEAN CITY\n",
       "13    bid5               $1.79 DRY CLEAN CITY\n",
       "14    bid5               $1.50 DRY CLEAN CITY\n",
       "15    bid6               $1 69 DRY CLEAN CITY\n",
       "16    bid6               $1.69 DRY CLEAN CITY\n",
       "17    bid6               $1.79 DRY CLEAN CITY\n",
       "18    bid6          $ 1.49 DRY CLEAN CITY # 9\n",
       "19    bid7                 $1.00 DOLLAR STORE\n",
       "20    bid7                    $1 DOLLAR STORE\n",
       "21    bid8                     $1.25 CLEANERS\n",
       "22    bid8                        #1 CLEANERS\n",
       "23    bid8                 $1.25 DRY-CLEANERS\n",
       "24    bid9       $1.25 DRY CLEAN CENTER, INC.\n",
       "25    bid9       $1.25 DRY CLEAN SUPER CENTER\n",
       "26   bid10       $1.25 DRY CLEAN SUPER CENTER\n",
       "27   bid10       $1.49 DRY CLEAN SUPER CENTER\n",
       "28   bid10     $1.25 DRY CLEANERS SUPER CENTE\n",
       "29   bid10       $1.25 DRY CLEAN CENTER, INC.\n",
       "..     ...                                ...\n",
       "119  bid43                       *BEST EFFORT\n",
       "120  bid43                      (BEST EFFORT)\n",
       "121  bid43                      - BEST EFFORT\n",
       "122  bid43                     (BEST EFFORTS)\n",
       "123  bid43                      *BEST EFFORTS\n",
       "124  bid44                      *BEST EFFORTS\n",
       "125  bid44                     (BEST EFFORTS)\n",
       "126  bid44                      (BEST EFFORT)\n",
       "127  bid44                       *BEST EFFORT\n",
       "128  bid44                      - BEST EFFORT\n",
       "129  bid45                  *INGHAM CTY CLERK\n",
       "130  bid45               *INGHAM COUNTY CLERK\n",
       "131  bid46                     *J & T VENDING\n",
       "132  bid46                      , & J VENDING\n",
       "133  bid47         *REFUND-NOT A CONTRIBUTION\n",
       "134  bid47        * REFUND-NOT A CONTRIBUTION\n",
       "135  bid48                      , & J VENDING\n",
       "136  bid48                     *J & T VENDING\n",
       "137  bid48                          & VENDING\n",
       "138  bid49                      - BEST EFFORT\n",
       "139  bid49                      (BEST EFFORT)\n",
       "140  bid49                       *BEST EFFORT\n",
       "141  bid49                     (BEST EFFORTS)\n",
       "142  bid49                      *BEST EFFORTS\n",
       "143  bid50              - HERZOG & RHOADS INC\n",
       "144  bid50                  - HERZOG & RHOADS\n",
       "145  bid51                   .COM REAL ESTATE\n",
       "146  bid51                      / REAL ESTATE\n",
       "147  bid52                      / DUKE ENERGY\n",
       "148  bid52                     /  DUKE ENERGY\n",
       "\n",
       "[149 rows x 2 columns]"
      ]
     },
     "execution_count": 11,
     "metadata": {},
     "output_type": "execute_result"
    }
   ],
   "source": [
    "crosswalk1 = []\n",
    "bisids=[]\n",
    "for i in range(len(forsurvey)):\n",
    "    crosswalk1.append(forsurvey[i][0])\n",
    "    bisids.append(\"bid\"+str(i))\n",
    "    for j in range(len(forsurvey[i][1])):\n",
    "        crosswalk1.append(forsurvey[i][1][j])\n",
    "        bisids.append(\"bid\"+str(i))\n",
    "\n",
    "crosswalk = pd.DataFrame({'cw1' : crosswalk1,'bid':bisids})\n",
    "print(forsurvey[0])\n",
    "print(forsurvey[0][1])\n",
    "#print(mask[23][1][0][0])\n",
    "\n",
    "#inds = []\n",
    "#for x in range(len(forsurvey)):\n",
    "#    for i in range(len(forsurvey[x][1])):\n",
    "#         if mask[23][1][0] in forsurvey[x][1][i]:\n",
    "#                inds.append(x)\n",
    "#mask[inds[1]]\n",
    "#inds\n",
    "\n",
    "crosswalk"
   ]
  },
  {
   "cell_type": "code",
   "execution_count": null,
   "metadata": {
    "collapsed": true
   },
   "outputs": [],
   "source": [
    "args = 1\n",
    "name = str('test%s' % args + '.csv')\n",
    "header = ['bid','cw1']\n",
    "crosswalk.to_csv(name,sep=',',columns=header,index=False)"
   ]
  },
  {
   "cell_type": "code",
   "execution_count": null,
   "metadata": {
    "collapsed": false
   },
   "outputs": [],
   "source": [
    "%%bash\n",
    "git add fec-string-prep.ipynb\n",
    "git status\n",
    "git commit -m \"Further tinkering with the algorithm\"\n",
    "git push\n",
    "git status"
   ]
  },
  {
   "cell_type": "code",
   "execution_count": null,
   "metadata": {
    "collapsed": false
   },
   "outputs": [],
   "source": [
    "%%bash\n",
    "git status"
   ]
  },
  {
   "cell_type": "code",
   "execution_count": null,
   "metadata": {
    "collapsed": true
   },
   "outputs": [],
   "source": []
  }
 ],
 "metadata": {
  "anaconda-cloud": {},
  "kernelspec": {
   "display_name": "Python [Root]",
   "language": "python",
   "name": "Python [Root]"
  },
  "language_info": {
   "codemirror_mode": {
    "name": "ipython",
    "version": 3
   },
   "file_extension": ".py",
   "mimetype": "text/x-python",
   "name": "python",
   "nbconvert_exporter": "python",
   "pygments_lexer": "ipython3",
   "version": "3.5.2"
  }
 },
 "nbformat": 4,
 "nbformat_minor": 0
}
