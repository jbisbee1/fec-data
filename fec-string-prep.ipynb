{
 "cells": [
  {
   "cell_type": "markdown",
   "metadata": {},
   "source": [
    "# Getting the Git"
   ]
  },
  {
   "cell_type": "code",
   "execution_count": 1,
   "metadata": {
    "collapsed": false
   },
   "outputs": [],
   "source": [
    "import os\n",
    "%matplotlib inline\n",
    "import pandas as pd\n",
    "import numpy as np\n",
    "import scipy as sp\n",
    "import seaborn as sns\n",
    "import matplotlib as mpl\n",
    "os.environ['PATH'] += \";C\\Program Files\\Git\\\\bin\""
   ]
  },
  {
   "cell_type": "code",
   "execution_count": 2,
   "metadata": {
    "collapsed": false
   },
   "outputs": [
    {
     "name": "stderr",
     "output_type": "stream",
     "text": [
      "Cloning into 'fec-data'...\n"
     ]
    }
   ],
   "source": [
    "%%bash\n",
    "rm -rf fec-data\n",
    "git clone git@github.com:jbisbee1/fec-data.git"
   ]
  },
  {
   "cell_type": "code",
   "execution_count": 4,
   "metadata": {
    "collapsed": false
   },
   "outputs": [
    {
     "name": "stdout",
     "output_type": "stream",
     "text": [
      "commit 4cd451b67957990f506074a7f38e200ceb053862\n",
      "Author: jbisbee1 <jimbisbee@yahoo.com>\n",
      "Date:   Thu Jul 21 16:37:22 2016 -0400\n",
      "\n",
      "    Updated the readme.md file to remind myself of fuzzyfuzzy.\n",
      "\n",
      "commit 3f7beb7944abf2f86654fc6b9c15fcfdb61f4091\n",
      "Author: jbisbee1 <jimbisbee@yahoo.com>\n",
      "Date:   Thu Jul 21 12:15:12 2016 -0400\n",
      "\n",
      "    Updated the readme.md file with a brief description of the purpose for this repository.\n"
     ]
    }
   ],
   "source": [
    "%%bash\n",
    "cd ./fec-data/; git log"
   ]
  },
  {
   "cell_type": "code",
   "execution_count": 3,
   "metadata": {
    "collapsed": false
   },
   "outputs": [
    {
     "name": "stdout",
     "output_type": "stream",
     "text": [
      "On branch master\n",
      "Your branch is up-to-date with 'origin/master'.\n",
      "nothing to commit, working tree clean\n",
      "On branch master\n",
      "Your branch is up-to-date with 'origin/master'.\n",
      "nothing to commit, working tree clean\n"
     ]
    },
    {
     "name": "stderr",
     "output_type": "stream",
     "text": [
      "fatal: pathspec 'fec-string-prep.ipynb' did not match any files\n",
      "Everything up-to-date\n"
     ]
    }
   ],
   "source": [
    "%%bash\n",
    "cd ./fec-data\n",
    "git add fec-string-prep.ipynb\n",
    "git commit -m \"Implementing fuzzy wuzzy and using it to create Qualtrics surveys for manual checking.\"\n",
    "git push\n",
    "git status"
   ]
  },
  {
   "cell_type": "markdown",
   "metadata": {},
   "source": [
    "# Opening some text data"
   ]
  },
  {
   "cell_type": "code",
   "execution_count": 13,
   "metadata": {
    "collapsed": false
   },
   "outputs": [
    {
     "data": {
      "text/html": [
       "<div>\n",
       "<table border=\"1\" class=\"dataframe\">\n",
       "  <thead>\n",
       "    <tr style=\"text-align: right;\">\n",
       "      <th></th>\n",
       "      <th>id</th>\n",
       "      <th>earmark_id</th>\n",
       "      <th>raw_recipient</th>\n",
       "      <th>standardized_recipient</th>\n",
       "    </tr>\n",
       "  </thead>\n",
       "  <tbody>\n",
       "    <tr>\n",
       "      <th>0</th>\n",
       "      <td>1</td>\n",
       "      <td>6</td>\n",
       "      <td>Ocanit</td>\n",
       "      <td>NaN</td>\n",
       "    </tr>\n",
       "    <tr>\n",
       "      <th>1</th>\n",
       "      <td>3</td>\n",
       "      <td>12</td>\n",
       "      <td>Rescue Technolgies Corporation</td>\n",
       "      <td>NaN</td>\n",
       "    </tr>\n",
       "    <tr>\n",
       "      <th>2</th>\n",
       "      <td>4</td>\n",
       "      <td>18</td>\n",
       "      <td>APHIS Hawaii</td>\n",
       "      <td>NaN</td>\n",
       "    </tr>\n",
       "    <tr>\n",
       "      <th>3</th>\n",
       "      <td>5</td>\n",
       "      <td>25</td>\n",
       "      <td>University of Hawaii - University Affliated Re...</td>\n",
       "      <td>NaN</td>\n",
       "    </tr>\n",
       "    <tr>\n",
       "      <th>4</th>\n",
       "      <td>6</td>\n",
       "      <td>32</td>\n",
       "      <td>Alaka'i Consulting and Engineering</td>\n",
       "      <td>NaN</td>\n",
       "    </tr>\n",
       "  </tbody>\n",
       "</table>\n",
       "</div>"
      ],
      "text/plain": [
       "   id  earmark_id                                      raw_recipient  \\\n",
       "0   1           6                                             Ocanit   \n",
       "1   3          12                     Rescue Technolgies Corporation   \n",
       "2   4          18                                       APHIS Hawaii   \n",
       "3   5          25  University of Hawaii - University Affliated Re...   \n",
       "4   6          32                 Alaka'i Consulting and Engineering   \n",
       "\n",
       "  standardized_recipient  \n",
       "0                    NaN  \n",
       "1                    NaN  \n",
       "2                    NaN  \n",
       "3                    NaN  \n",
       "4                    NaN  "
      ]
     },
     "execution_count": 13,
     "metadata": {},
     "output_type": "execute_result"
    }
   ],
   "source": [
    "recipients = pd.read_csv(\"../earmarks/recipient.csv\")\n",
    "recipients.head()"
   ]
  },
  {
   "cell_type": "markdown",
   "metadata": {},
   "source": [
    "# Cleaning the data"
   ]
  },
  {
   "cell_type": "code",
   "execution_count": 14,
   "metadata": {
    "collapsed": false
   },
   "outputs": [],
   "source": [
    "recraw = recipients['raw_recipient']\n",
    "rectokens=recraw.str.split()\n",
    "totaltokens = len(rectokens)"
   ]
  },
  {
   "cell_type": "code",
   "execution_count": 15,
   "metadata": {
    "collapsed": false
   },
   "outputs": [],
   "source": [
    "recclean = recraw.str.lower()\n",
    "recclean = recclean.str.replace(',',' ',case=False)\n",
    "recclean = recclean.str.replace('\\&',' and ',case=False)\n",
    "recclean = recclean.str.replace('-',' ',case=False)\n",
    "recclean = recclean.str.replace('\\'','',case=False)\n",
    "recclean = recclean.str.replace('.','')\n",
    "recclean = recclean.str.replace('[ ]{2,}',' ',case=False)\n",
    "recclean = recclean.str.normalize('NFC')"
   ]
  },
  {
   "cell_type": "markdown",
   "metadata": {},
   "source": [
    "# Trying to Estimate Text Similarities"
   ]
  },
  {
   "cell_type": "code",
   "execution_count": 16,
   "metadata": {
    "collapsed": false
   },
   "outputs": [
    {
     "data": {
      "text/plain": [
       "pandas.core.series.Series"
      ]
     },
     "execution_count": 16,
     "metadata": {},
     "output_type": "execute_result"
    }
   ],
   "source": [
    "test = recclean.str.split(expand = True)\n",
    "type(test[0])\n",
    "#test['universities'] = test[0].apply(lambda x: x.count('university'))\n",
    "#test.head()"
   ]
  },
  {
   "cell_type": "code",
   "execution_count": 17,
   "metadata": {
    "collapsed": false
   },
   "outputs": [
    {
     "data": {
      "text/html": [
       "<div>\n",
       "<table border=\"1\" class=\"dataframe\">\n",
       "  <thead>\n",
       "    <tr style=\"text-align: right;\">\n",
       "      <th></th>\n",
       "      <th></th>\n",
       "      <th>0</th>\n",
       "      <th>1</th>\n",
       "    </tr>\n",
       "    <tr>\n",
       "      <th></th>\n",
       "      <th>match</th>\n",
       "      <th></th>\n",
       "      <th></th>\n",
       "    </tr>\n",
       "  </thead>\n",
       "  <tbody>\n",
       "    <tr>\n",
       "      <th rowspan=\"2\" valign=\"top\">3</th>\n",
       "      <th>0</th>\n",
       "      <td>university</td>\n",
       "      <td>NaN</td>\n",
       "    </tr>\n",
       "    <tr>\n",
       "      <th>1</th>\n",
       "      <td>university</td>\n",
       "      <td>NaN</td>\n",
       "    </tr>\n",
       "    <tr>\n",
       "      <th>5</th>\n",
       "      <th>0</th>\n",
       "      <td>NaN</td>\n",
       "      <td>inc</td>\n",
       "    </tr>\n",
       "    <tr>\n",
       "      <th>6</th>\n",
       "      <th>0</th>\n",
       "      <td>university</td>\n",
       "      <td>NaN</td>\n",
       "    </tr>\n",
       "    <tr>\n",
       "      <th>7</th>\n",
       "      <th>0</th>\n",
       "      <td>NaN</td>\n",
       "      <td>inc</td>\n",
       "    </tr>\n",
       "  </tbody>\n",
       "</table>\n",
       "</div>"
      ],
      "text/plain": [
       "                  0    1\n",
       "  match                 \n",
       "3 0      university  NaN\n",
       "  1      university  NaN\n",
       "5 0             NaN  inc\n",
       "6 0      university  NaN\n",
       "7 0             NaN  inc"
      ]
     },
     "execution_count": 17,
     "metadata": {},
     "output_type": "execute_result"
    }
   ],
   "source": [
    "recclean.str.extractall('(university)|(inc)')[:5]"
   ]
  },
  {
   "cell_type": "code",
   "execution_count": 18,
   "metadata": {
    "collapsed": false
   },
   "outputs": [
    {
     "data": {
      "text/plain": [
       "725.0"
      ]
     },
     "execution_count": 18,
     "metadata": {},
     "output_type": "execute_result"
    }
   ],
   "source": [
    "recclean.str.count(\" university\").sum() #This is strange...two similar methods yield slightly different counts"
   ]
  },
  {
   "cell_type": "code",
   "execution_count": 19,
   "metadata": {
    "collapsed": false
   },
   "outputs": [
    {
     "data": {
      "text/plain": [
       "724"
      ]
     },
     "execution_count": 19,
     "metadata": {},
     "output_type": "execute_result"
    }
   ],
   "source": [
    "recclean.str.contains(' university').sum()"
   ]
  },
  {
   "cell_type": "code",
   "execution_count": 20,
   "metadata": {
    "collapsed": false
   },
   "outputs": [],
   "source": [
    "rectokens = recclean.str.split()"
   ]
  },
  {
   "cell_type": "markdown",
   "metadata": {},
   "source": [
    "# It seems there are packages already developed"
   ]
  },
  {
   "cell_type": "code",
   "execution_count": 21,
   "metadata": {
    "collapsed": false
   },
   "outputs": [
    {
     "name": "stdout",
     "output_type": "stream",
     "text": [
      "Requirement already satisfied (use --upgrade to upgrade): fuzzywuzzy in c:\\users\\jhb362\\anaconda3\\lib\\site-packages\r\n"
     ]
    }
   ],
   "source": [
    "%%bash\n",
    "pip install fuzzywuzzy"
   ]
  },
  {
   "cell_type": "code",
   "execution_count": 23,
   "metadata": {
    "collapsed": false
   },
   "outputs": [
    {
     "name": "stdout",
     "output_type": "stream",
     "text": [
      "Searching for python-Levenshtein\r\n",
      "Reading https://pypi.python.org/simple/python-Levenshtein/\r\n",
      "Best match: python-Levenshtein 0.12.0\r\n",
      "Downloading https://pypi.python.org/packages/42/a9/d1785c85ebf9b7dfacd08938dd028209c34a0ea3b1bcdb895208bd40a67d/python-Levenshtein-0.12.0.tar.gz#md5=e8cde197d6d304bbdc3adae66fec99fb\r\n",
      "Processing python-Levenshtein-0.12.0.tar.gz\r\n",
      "Writing C:\\Users\\jhb362\\AppData\\Local\\Temp\\easy_install-nu_74o3v\\python-Levenshtein-0.12.0\\setup.cfg\r\n",
      "Running python-Levenshtein-0.12.0\\setup.py -q bdist_egg --dist-dir C:\\Users\\jhb362\\AppData\\Local\\Temp\\easy_install-nu_74o3v\\python-Levenshtein-0.12.0\\egg-dist-tmp-6etqmn8w\r\n"
     ]
    },
    {
     "name": "stderr",
     "output_type": "stream",
     "text": [
      "warning: no previously-included files matching '*pyc' found anywhere in distribution\r\n",
      "warning: no previously-included files matching '*so' found anywhere in distribution\r\n",
      "warning: no previously-included files matching '.project' found anywhere in distribution\r\n",
      "warning: no previously-included files matching '.pydevproject' found anywhere in distribution\r\n",
      "error: Setup script exited with error: Unable to find vcvarsall.bat\r\n"
     ]
    }
   ],
   "source": [
    "%%bash\n",
    "easy_install python-Levenshtein"
   ]
  },
  {
   "cell_type": "code",
   "execution_count": 35,
   "metadata": {
    "collapsed": false
   },
   "outputs": [],
   "source": [
    "from fuzzywuzzy import fuzz\n",
    "from fuzzywuzzy import process"
   ]
  },
  {
   "cell_type": "code",
   "execution_count": 24,
   "metadata": {
    "collapsed": false
   },
   "outputs": [
    {
     "data": {
      "text/plain": [
       "85"
      ]
     },
     "execution_count": 24,
     "metadata": {},
     "output_type": "execute_result"
    }
   ],
   "source": [
    "fuzz.ratio(\"this is a test\",\"this is also a test\")"
   ]
  },
  {
   "cell_type": "code",
   "execution_count": 25,
   "metadata": {
    "collapsed": false
   },
   "outputs": [
    {
     "data": {
      "text/plain": [
       "100"
      ]
     },
     "execution_count": 25,
     "metadata": {},
     "output_type": "execute_result"
    }
   ],
   "source": [
    "fuzz.token_sort_ratio(\"test this is one\",'this is one test')"
   ]
  },
  {
   "cell_type": "code",
   "execution_count": 26,
   "metadata": {
    "collapsed": false
   },
   "outputs": [
    {
     "data": {
      "text/plain": [
       "100"
      ]
     },
     "execution_count": 26,
     "metadata": {},
     "output_type": "execute_result"
    }
   ],
   "source": [
    "fuzz.token_set_ratio(\"this is a test\",\"this is also a test\")"
   ]
  },
  {
   "cell_type": "code",
   "execution_count": 27,
   "metadata": {
    "collapsed": false
   },
   "outputs": [
    {
     "data": {
      "text/plain": [
       "0                                               ocanit\n",
       "1                       rescue technolgies corporation\n",
       "2                                         aphis hawaii\n",
       "3    university of hawaii university affliated rese...\n",
       "4                    alakai consulting and engineering\n",
       "Name: raw_recipient, dtype: object"
      ]
     },
     "execution_count": 27,
     "metadata": {},
     "output_type": "execute_result"
    }
   ],
   "source": [
    "recclean.head()"
   ]
  },
  {
   "cell_type": "code",
   "execution_count": 36,
   "metadata": {
    "collapsed": false
   },
   "outputs": [
    {
     "data": {
      "text/plain": [
       "[('new york jets', 100), ('new york giants', 79)]"
      ]
     },
     "execution_count": 36,
     "metadata": {},
     "output_type": "execute_result"
    }
   ],
   "source": [
    "choices = [\"atlanta falcons\",\"new york jets\",\"new york giants\",\"dallas cowboys\"]\n",
    "process.extract(\"new york jets\",choices,limit=2)"
   ]
  },
  {
   "cell_type": "code",
   "execution_count": 183,
   "metadata": {
    "collapsed": false
   },
   "outputs": [
    {
     "data": {
      "text/plain": [
       "[True, True, True]"
      ]
     },
     "execution_count": 183,
     "metadata": {},
     "output_type": "execute_result"
    }
   ],
   "source": [
    "uniques = recclean.drop_duplicates()\n",
    "select = [isinstance(e,str) for e in uniques]\n",
    "uniques2 = uniques[select]\n",
    "\n",
    "select = [isinstance(e,str) for e in recclean]\n",
    "recclean2 = recclean[select]\n",
    "select[:3]"
   ]
  },
  {
   "cell_type": "code",
   "execution_count": 217,
   "metadata": {
    "collapsed": false
   },
   "outputs": [
    {
     "name": "stdout",
     "output_type": "stream",
     "text": [
      "[('ocanit', 100, 0), ('oceanit', 92, 4779)] [('oceanit', 92, 4779)]\n"
     ]
    }
   ],
   "source": [
    "test = process.extractBests(recclean2[0],uniques2,scorer = fuzz.token_set_ratio,score_cutoff = 80)\n",
    "select = [test[i][1] != 100 for i in range(len(test))]\n",
    "test2 = [i for i in test if i[1] != 100]\n",
    "print(test,test2)"
   ]
  },
  {
   "cell_type": "code",
   "execution_count": 150,
   "metadata": {
    "collapsed": false
   },
   "outputs": [],
   "source": [
    "pairings={}\n",
    "for rec in recclean2[:20]:\n",
    "    pairings[rec]=process.extract(rec,uniques2,scorer=fuzz.token_set_ratio,limit=2)"
   ]
  },
  {
   "cell_type": "code",
   "execution_count": 151,
   "metadata": {
    "collapsed": false
   },
   "outputs": [
    {
     "data": {
      "text/plain": [
       "{'rescue technolgies corporation': [('rescue technolgies corporation', 100, 1),\n",
       "  ('c9 corporation', 88, 598)],\n",
       " 'summa technology inc': [('summa technology inc', 100, 5),\n",
       "  ('arc technology', 83, 1270)],\n",
       " 'university of hawaii university affliated research center': [('university of hawaii university affliated research center',\n",
       "   100,\n",
       "   3),\n",
       "  ('university of hawaii', 100, 4581)]}"
      ]
     },
     "execution_count": 151,
     "metadata": {},
     "output_type": "execute_result"
    }
   ],
   "source": [
    "dict(list(pairings.items())[:3])"
   ]
  },
  {
   "cell_type": "markdown",
   "metadata": {},
   "source": [
    "# This is getting somewhere now. Here I explore how to write a .txt file in the format for importing to Qualtrics"
   ]
  },
  {
   "cell_type": "code",
   "execution_count": null,
   "metadata": {
    "collapsed": true
   },
   "outputs": [],
   "source": [
    "survey_file = open(\"survey-test.txt\",\"w\")\n",
    "survey_file.write(\"Testing: %s\" % test[1][0])\n",
    "survey_file.close()"
   ]
  }
 ],
 "metadata": {
  "kernelspec": {
   "display_name": "Python [Root]",
   "language": "python",
   "name": "Python [Root]"
  },
  "language_info": {
   "codemirror_mode": {
    "name": "ipython",
    "version": 3
   },
   "file_extension": ".py",
   "mimetype": "text/x-python",
   "name": "python",
   "nbconvert_exporter": "python",
   "pygments_lexer": "ipython3",
   "version": "3.5.2"
  }
 },
 "nbformat": 4,
 "nbformat_minor": 0
}
